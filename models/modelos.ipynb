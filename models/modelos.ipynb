{
 "cells": [
  {
   "cell_type": "markdown",
   "metadata": {},
   "source": [
    "# Transformación previa al modelado"
   ]
  },
  {
   "cell_type": "markdown",
   "metadata": {},
   "source": [
    "- Importo las librerías"
   ]
  },
  {
   "cell_type": "code",
   "execution_count": 1,
   "metadata": {},
   "outputs": [],
   "source": [
    "import pandas as pd"
   ]
  },
  {
   "cell_type": "markdown",
   "metadata": {},
   "source": [
    "- Cargo el dataset limpio de Tierra del Fuego (uso el separador \";\")"
   ]
  },
  {
   "cell_type": "code",
   "execution_count": 2,
   "metadata": {},
   "outputs": [],
   "source": [
    "df_tdf = pd.read_csv('../data/processed/dataset_tdf_limpio.csv', sep=\";\")"
   ]
  },
  {
   "cell_type": "markdown",
   "metadata": {},
   "source": [
    "- Convierto el dataset de formato ancho a formato largo, dejando \"Tipo de Delito\" como columna fija."
   ]
  },
  {
   "cell_type": "code",
   "execution_count": 3,
   "metadata": {},
   "outputs": [],
   "source": [
    "df_tdf_largo = pd.melt(\n",
    "    df_tdf,\n",
    "    id_vars=['Tipo de Delito'],\n",
    "    var_name='mes_anio_original',\n",
    "    value_name='cantidad'\n",
    ")"
   ]
  },
  {
   "cell_type": "markdown",
   "metadata": {},
   "source": [
    "- Renombro la columna de tipo de delito"
   ]
  },
  {
   "cell_type": "code",
   "execution_count": 4,
   "metadata": {},
   "outputs": [],
   "source": [
    "df_tdf_largo.rename(columns={'Tipo de Delito': 'tipo_delito'}, inplace=True)\n"
   ]
  },
  {
   "cell_type": "markdown",
   "metadata": {},
   "source": [
    "- Separo la columna que contiene mes y año juntos en dos columnas distintas"
   ]
  },
  {
   "cell_type": "code",
   "execution_count": 5,
   "metadata": {},
   "outputs": [],
   "source": [
    "df_tdf_largo[['mes_txt', 'anio']] = df_tdf_largo['mes_anio_original'].str.split(' ', expand=True)\n"
   ]
  },
  {
   "cell_type": "markdown",
   "metadata": {},
   "source": [
    "- Creo un diccionario para convertir el nombre de los meses a números"
   ]
  },
  {
   "cell_type": "code",
   "execution_count": 6,
   "metadata": {},
   "outputs": [],
   "source": [
    "meses_a_num = {\n",
    "    'enero': 1, 'febrero': 2, 'marzo': 3, 'abril': 4, 'mayo': 5, 'junio': 6,\n",
    "    'julio': 7, 'agosto': 8, 'septiembre': 9, 'octubre': 10,\n",
    "    'noviembre': 11, 'diciembre': 12\n",
    "}\n",
    "df_tdf_largo['mes'] = df_tdf_largo['mes_txt'].map(meses_a_num)"
   ]
  },
  {
   "cell_type": "markdown",
   "metadata": {},
   "source": [
    "- Convierto el año y cantidad a números. Relleno los valores faltantes con 0"
   ]
  },
  {
   "cell_type": "code",
   "execution_count": 7,
   "metadata": {},
   "outputs": [],
   "source": [
    "df_tdf_largo['anio'] = df_tdf_largo['anio'].astype(int)\n",
    "df_tdf_largo['cantidad'] = pd.to_numeric(df_tdf_largo['cantidad'], errors='coerce').fillna(0).astype(int)\n"
   ]
  },
  {
   "cell_type": "markdown",
   "metadata": {},
   "source": [
    "- Genero una nueva columna de texto con el formato mes-año"
   ]
  },
  {
   "cell_type": "code",
   "execution_count": 8,
   "metadata": {},
   "outputs": [],
   "source": [
    "meses_nombre = {\n",
    "    1: 'enero', 2: 'febrero', 3: 'marzo', 4: 'abril', 5: 'mayo', 6: 'junio',\n",
    "    7: 'julio', 8: 'agosto', 9: 'septiembre', 10: 'octubre',\n",
    "    11: 'noviembre', 12: 'diciembre'\n",
    "}\n",
    "df_tdf_largo['mes_anio_texto'] = df_tdf_largo['mes'].map(meses_nombre) + ' ' + df_tdf_largo['anio'].astype(str)\n"
   ]
  },
  {
   "cell_type": "markdown",
   "metadata": {},
   "source": [
    "- Creo un identificador año-mes "
   ]
  },
  {
   "cell_type": "code",
   "execution_count": 9,
   "metadata": {},
   "outputs": [],
   "source": [
    "df_tdf_largo['mes_anio_simple'] = df_tdf_largo['anio'].astype(str) + '-' + df_tdf_largo['mes'].astype(str).str.zfill(2)\n"
   ]
  },
  {
   "cell_type": "markdown",
   "metadata": {},
   "source": [
    "- Muestro las primeras filas para verificar la nueva estructura"
   ]
  },
  {
   "cell_type": "code",
   "execution_count": 10,
   "metadata": {},
   "outputs": [
    {
     "name": "stdout",
     "output_type": "stream",
     "text": [
      "                                       tipo_delito  cantidad mes_anio_texto  \\\n",
      "0                         Total Hechos delictuosos       453     enero 2014   \n",
      "1                              Contra las Personas        60     enero 2014   \n",
      "2                               Homicidios Dolosos         1     enero 2014   \n",
      "3         Homicidios dolosos en grado de tentativa         0     enero 2014   \n",
      "4     Homicidios Culposos e Accidentes de Tránsito         0     enero 2014   \n",
      "\n",
      "  mes_anio_simple  \n",
      "0         2014-01  \n",
      "1         2014-01  \n",
      "2         2014-01  \n",
      "3         2014-01  \n",
      "4         2014-01  \n"
     ]
    }
   ],
   "source": [
    "print(df_tdf_largo[['tipo_delito', 'cantidad', 'mes_anio_texto', 'mes_anio_simple']].head())\n"
   ]
  },
  {
   "cell_type": "markdown",
   "metadata": {},
   "source": [
    "# Objetivo Nº1: Clasificar cada mes como \"alto\", \"medio\" o \"bajo\" en relación con el riesgo de delitos.\n",
    "### Creación de la etiqueta \"nivel_riesgo\" para clasificar cada mes como bajo, medio o alto según la cantidad de delitos ocurridos en ese mes "
   ]
  },
  {
   "cell_type": "markdown",
   "metadata": {},
   "source": [
    "- Elimino columnas innecesarias si es que están presentes, ignoro los errores si no existen"
   ]
  },
  {
   "cell_type": "code",
   "execution_count": 11,
   "metadata": {},
   "outputs": [],
   "source": [
    "df_tdf_largo = df_tdf_largo.drop(columns=['nivel_riesgo', 'cantidad_total'], errors='ignore')\n"
   ]
  },
  {
   "cell_type": "markdown",
   "metadata": {},
   "source": [
    "- Agrupo por año y mes para obtener la cantidad total de delitos por un determinado periodo"
   ]
  },
  {
   "cell_type": "code",
   "execution_count": 12,
   "metadata": {},
   "outputs": [],
   "source": [
    "delitos_por_mes = df_tdf_largo.groupby(['anio', 'mes'])['cantidad'].sum().reset_index()\n",
    "delitos_por_mes.rename(columns={'cantidad': 'cantidad_total'}, inplace=True)\n"
   ]
  },
  {
   "cell_type": "markdown",
   "metadata": {},
   "source": [
    "- Clasifico el total de delitos mensuales en niveles de riesgo bajo, medio o alto usando cuantiles"
   ]
  },
  {
   "cell_type": "code",
   "execution_count": 13,
   "metadata": {},
   "outputs": [],
   "source": [
    "delitos_por_mes['nivel_riesgo'] = pd.qcut(\n",
    "    delitos_por_mes['cantidad_total'],\n",
    "    q=3,\n",
    "    labels=['bajo', 'medio', 'alto']\n",
    ")\n"
   ]
  },
  {
   "cell_type": "markdown",
   "metadata": {},
   "source": [
    "- Uno la información de nivel de riesgo y cantidad total al dataset principal según año y mes"
   ]
  },
  {
   "cell_type": "code",
   "execution_count": 14,
   "metadata": {},
   "outputs": [],
   "source": [
    "df_tdf_largo = df_tdf_largo.merge(\n",
    "    delitos_por_mes[['anio', 'mes', 'nivel_riesgo', 'cantidad_total']],\n",
    "    on=['anio', 'mes'],\n",
    "    how='left'\n",
    ")\n"
   ]
  },
  {
   "cell_type": "markdown",
   "metadata": {},
   "source": [
    "- Creo un dataframe con valores únicos de riesgo mensual ordenándolo cronológicamente"
   ]
  },
  {
   "cell_type": "code",
   "execution_count": 15,
   "metadata": {},
   "outputs": [],
   "source": [
    "unico_riesgo_por_mes = (\n",
    "    df_tdf_largo[['mes_anio_texto', 'nivel_riesgo', 'cantidad_total']]\n",
    "    .drop_duplicates()\n",
    "    .sort_values('mes_anio_texto')\n",
    ")\n"
   ]
  },
  {
   "cell_type": "markdown",
   "metadata": {},
   "source": [
    "- Muestro las primeras 20 filas"
   ]
  },
  {
   "cell_type": "code",
   "execution_count": 16,
   "metadata": {},
   "outputs": [
    {
     "name": "stdout",
     "output_type": "stream",
     "text": [
      "     mes_anio_texto nivel_riesgo  cantidad_total\n",
      "111      abril 2014         bajo            1737\n",
      "555      abril 2015         bajo            1743\n",
      "999      abril 2016         bajo            1965\n",
      "1443     abril 2017        medio            2460\n",
      "1887     abril 2018        medio            2565\n",
      "2331     abril 2019        medio            2565\n",
      "2775     abril 2020        medio            2331\n",
      "3219     abril 2021         alto            2958\n",
      "3663     abril 2022        medio            2658\n",
      "4107     abril 2023        medio            2430\n",
      "259     agosto 2014         bajo            1719\n",
      "703     agosto 2015         bajo            1455\n",
      "1147    agosto 2016         bajo            1923\n",
      "1591    agosto 2017         bajo            2091\n",
      "2035    agosto 2018         alto            3120\n",
      "2479    agosto 2019         alto            2877\n",
      "2923    agosto 2020        medio            2286\n",
      "3367    agosto 2021        medio            2664\n",
      "3811    agosto 2022         alto            3144\n",
      "4255    agosto 2023         alto            2952\n"
     ]
    }
   ],
   "source": [
    "print(unico_riesgo_por_mes.head(20))"
   ]
  },
  {
   "cell_type": "markdown",
   "metadata": {},
   "source": [
    "### Visualización de resultados (parcial)"
   ]
  },
  {
   "cell_type": "markdown",
   "metadata": {},
   "source": [
    "- Importo la librería matplotlib para visualizar los resultados parciales"
   ]
  },
  {
   "cell_type": "code",
   "execution_count": 17,
   "metadata": {},
   "outputs": [],
   "source": [
    "import matplotlib.pyplot as plt\n"
   ]
  },
  {
   "cell_type": "markdown",
   "metadata": {},
   "source": [
    "- Ordeno el dataframe de riesgo mensual por fecha en formato texto "
   ]
  },
  {
   "cell_type": "code",
   "execution_count": 18,
   "metadata": {},
   "outputs": [],
   "source": [
    "unico_riesgo_por_mes = unico_riesgo_por_mes.sort_values('mes_anio_texto')\n"
   ]
  },
  {
   "cell_type": "markdown",
   "metadata": {},
   "source": [
    "- Genero un gráfico de barras de la cantidad total de delitos por mes, coloreando según el nivel de riesgo"
   ]
  },
  {
   "cell_type": "code",
   "execution_count": 19,
   "metadata": {},
   "outputs": [
    {
     "data": {
      "image/png": "[encoded data removed]",
      "text/plain": [
       "<Figure size 1600x600 with 1 Axes>"
      ]
     },
     "metadata": {},
     "output_type": "display_data"
    }
   ],
   "source": [
    "plt.figure(figsize=(16, 6))\n",
    "plt.bar(\n",
    "    unico_riesgo_por_mes['mes_anio_texto'],\n",
    "    unico_riesgo_por_mes['cantidad_total'],\n",
    "    color=unico_riesgo_por_mes['nivel_riesgo'].map({\n",
    "        'bajo': 'green', 'medio': 'orange', 'alto': 'red'\n",
    "    })\n",
    ")\n",
    "\n",
    "plt.xticks(rotation=90)\n",
    "plt.title('Cantidad total de delitos por mes con clasificación de riesgo')\n",
    "plt.xlabel('Mes')\n",
    "plt.ylabel('Cantidad total de delitos')\n",
    "plt.tight_layout()\n",
    "plt.show()"
   ]
  },
  {
   "cell_type": "markdown",
   "metadata": {},
   "source": [
    "- Interpretación: Como se observa, la cantidad total de delitos varía mes a mes y se identifican claramente los picos de alto riesgo (en color rojo), que se repiten especialmente en meses como diciembre y marzo. Esto permite anticipar períodos críticos en los que conviene reforzar la prevención del delito."
   ]
  },
  {
   "cell_type": "markdown",
   "metadata": {},
   "source": [
    "### Modelado "
   ]
  },
  {
   "cell_type": "markdown",
   "metadata": {},
   "source": [
    "- Agrupo el total de delitos por tipo, mes y año sumando la cantidad de cada uno"
   ]
  },
  {
   "cell_type": "code",
   "execution_count": 20,
   "metadata": {},
   "outputs": [],
   "source": [
    "df_mes_delito = df_tdf_largo.groupby(['anio', 'mes', 'tipo_delito'])['cantidad'].sum().reset_index()\n"
   ]
  },
  {
   "cell_type": "markdown",
   "metadata": {},
   "source": [
    "- Creo una tabla donde cada tipo de delito es una columna con su cantidad por mes y año"
   ]
  },
  {
   "cell_type": "code",
   "execution_count": 21,
   "metadata": {},
   "outputs": [],
   "source": [
    "df_features = df_mes_delito.pivot_table(\n",
    "    index=['anio', 'mes'],\n",
    "    columns='tipo_delito',\n",
    "    values='cantidad',\n",
    "    fill_value=0\n",
    ").reset_index()"
   ]
  },
  {
   "cell_type": "markdown",
   "metadata": {},
   "source": [
    "- Uno con las etiquetas de riesgo mensual para preparar el dataset final"
   ]
  },
  {
   "cell_type": "code",
   "execution_count": 22,
   "metadata": {},
   "outputs": [],
   "source": [
    "df_etiquetas = df_tdf_largo[['anio', 'mes', 'nivel_riesgo']].drop_duplicates()\n",
    "df_modelo = df_features.merge(df_etiquetas, on=['anio', 'mes'], how='left')"
   ]
  },
  {
   "cell_type": "markdown",
   "metadata": {},
   "source": [
    "- Muestro los resultados"
   ]
  },
  {
   "cell_type": "code",
   "execution_count": 23,
   "metadata": {},
   "outputs": [
    {
     "name": "stdout",
     "output_type": "stream",
     "text": [
      "    anio  mes     Abuso sexual con acceso carnal (Violación)     Amenazas  \\\n",
      "0   2014    1                                              0           81   \n",
      "1   2014    2                                              0            0   \n",
      "2   2014    3                                              1           47   \n",
      "3   2014    4                                              0           84   \n",
      "4   2014    5                                              2           57   \n",
      "5   2014    6                                              0           93   \n",
      "6   2014    7                                              0           87   \n",
      "7   2014    8                                              4           71   \n",
      "8   2014    9                                              2           94   \n",
      "9   2014   10                                              3          102   \n",
      "10  2014   11                                              4           72   \n",
      "11  2014   12                                              0           68   \n",
      "12  2015    1                                              0           70   \n",
      "13  2015    2                                              2           91   \n",
      "14  2015    3                                              2          112   \n",
      "15  2015    4                                              3           81   \n",
      "16  2015    5                                              1           87   \n",
      "17  2015    6                                              1           67   \n",
      "18  2015    7                                              0           62   \n",
      "19  2015    8                                              0           73   \n",
      "\n",
      "       Delito contra el orden económico y financiero  \\\n",
      "0                                                  0   \n",
      "1                                                  0   \n",
      "2                                                  0   \n",
      "3                                                  0   \n",
      "4                                                  0   \n",
      "5                                                  0   \n",
      "6                                                  0   \n",
      "7                                                  0   \n",
      "8                                                  0   \n",
      "9                                                  0   \n",
      "10                                                 0   \n",
      "11                                                 0   \n",
      "12                                                 0   \n",
      "13                                                 0   \n",
      "14                                                 0   \n",
      "15                                                 0   \n",
      "16                                                 0   \n",
      "17                                                 0   \n",
      "18                                                 0   \n",
      "19                                                 0   \n",
      "\n",
      "       Delitos contra el estado civil     Delitos contra el honor  \\\n",
      "0                                   0                           0   \n",
      "1                                   0                           0   \n",
      "2                                  42                           1   \n",
      "3                                   0                           0   \n",
      "4                                   0                           0   \n",
      "5                                   0                           0   \n",
      "6                                   0                           0   \n",
      "7                                   0                           0   \n",
      "8                                   0                           0   \n",
      "9                                   0                           0   \n",
      "10                                  0                           0   \n",
      "11                                  0                           0   \n",
      "12                                  0                           0   \n",
      "13                                  0                           0   \n",
      "14                                  0                           0   \n",
      "15                                  0                           0   \n",
      "16                                  0                           0   \n",
      "17                                  0                           0   \n",
      "18                                  0                           0   \n",
      "19                                  0                           0   \n",
      "\n",
      "       Delitos contra el orden público  \\\n",
      "0                                    0   \n",
      "1                                    0   \n",
      "2                                    0   \n",
      "3                                    0   \n",
      "4                                    1   \n",
      "5                                    0   \n",
      "6                                    0   \n",
      "7                                    0   \n",
      "8                                    1   \n",
      "9                                    0   \n",
      "10                                   0   \n",
      "11                                   2   \n",
      "12                                   0   \n",
      "13                                   0   \n",
      "14                                   0   \n",
      "15                                   1   \n",
      "16                                   0   \n",
      "17                                   0   \n",
      "18                                   0   \n",
      "19                                   0   \n",
      "\n",
      "       Delitos contra la administración pública  \\\n",
      "0                                             0   \n",
      "1                                             0   \n",
      "2                                             1   \n",
      "3                                             4   \n",
      "4                                             1   \n",
      "5                                             2   \n",
      "6                                             0   \n",
      "7                                             1   \n",
      "8                                             1   \n",
      "9                                             2   \n",
      "10                                            0   \n",
      "11                                            2   \n",
      "12                                            0   \n",
      "13                                            0   \n",
      "14                                            3   \n",
      "15                                            0   \n",
      "16                                            0   \n",
      "17                                            4   \n",
      "18                                            1   \n",
      "19                                            0   \n",
      "\n",
      "       Delitos contra la fe pública  ...  \\\n",
      "0                                 0  ...   \n",
      "1                                 0  ...   \n",
      "2                                 0  ...   \n",
      "3                                 1  ...   \n",
      "4                                 0  ...   \n",
      "5                                 0  ...   \n",
      "6                                 1  ...   \n",
      "7                                 0  ...   \n",
      "8                                 0  ...   \n",
      "9                                 0  ...   \n",
      "10                                0  ...   \n",
      "11                                0  ...   \n",
      "12                                0  ...   \n",
      "13                                1  ...   \n",
      "14                                0  ...   \n",
      "15                                1  ...   \n",
      "16                                1  ...   \n",
      "17                                1  ...   \n",
      "18                                1  ...   \n",
      "19                                0  ...   \n",
      "\n",
      "       Robos agravados por el resultado de lesiones y/o muertes  \\\n",
      "0                                                   0             \n",
      "1                                                   0             \n",
      "2                                                   1             \n",
      "3                                                   0             \n",
      "4                                                   0             \n",
      "5                                                   0             \n",
      "6                                                   0             \n",
      "7                                                   0             \n",
      "8                                                   0             \n",
      "9                                                   1             \n",
      "10                                                  1             \n",
      "11                                                  1             \n",
      "12                                                  0             \n",
      "13                                                  0             \n",
      "14                                                  3             \n",
      "15                                                  0             \n",
      "16                                                  0             \n",
      "17                                                  0             \n",
      "18                                                  1             \n",
      "19                                                  0             \n",
      "\n",
      "       Suicidios (consumados)     Tentativas de hurto  \\\n",
      "0                           0                       0   \n",
      "1                           0                       0   \n",
      "2                           0                      47   \n",
      "3                           0                       8   \n",
      "4                           0                       6   \n",
      "5                           0                       5   \n",
      "6                           1                       6   \n",
      "7                           3                      12   \n",
      "8                           2                       8   \n",
      "9                           3                      10   \n",
      "10                          1                       7   \n",
      "11                          0                       3   \n",
      "12                          2                       3   \n",
      "13                          0                       5   \n",
      "14                          2                       9   \n",
      "15                          1                      10   \n",
      "16                          0                      17   \n",
      "17                          0                       8   \n",
      "18                          3                       6   \n",
      "19                          0                       9   \n",
      "\n",
      "       Tentativas de robo (excluye las agravadas por el res.de lesiones y/o muertes)  \\\n",
      "0                                                   0                                  \n",
      "1                                                   0                                  \n",
      "2                                                   7                                  \n",
      "3                                                  12                                  \n",
      "4                                                  20                                  \n",
      "5                                                  17                                  \n",
      "6                                                  16                                  \n",
      "7                                                  18                                  \n",
      "8                                                  11                                  \n",
      "9                                                  14                                  \n",
      "10                                                  9                                  \n",
      "11                                                  8                                  \n",
      "12                                                 21                                  \n",
      "13                                                 12                                  \n",
      "14                                                 13                                  \n",
      "15                                                 27                                  \n",
      "16                                                 14                                  \n",
      "17                                                 10                                  \n",
      "18                                                 20                                  \n",
      "19                                                 11                                  \n",
      "\n",
      "       Tentativas de robo agravado por el resultado de lesiones y/o muertes  \\\n",
      "0                                                   0                         \n",
      "1                                                   0                         \n",
      "2                                                  26                         \n",
      "3                                                   0                         \n",
      "4                                                   0                         \n",
      "5                                                   0                         \n",
      "6                                                   0                         \n",
      "7                                                   0                         \n",
      "8                                                   0                         \n",
      "9                                                   0                         \n",
      "10                                                  1                         \n",
      "11                                                  0                         \n",
      "12                                                  0                         \n",
      "13                                                  0                         \n",
      "14                                                  0                         \n",
      "15                                                  0                         \n",
      "16                                                  0                         \n",
      "17                                                  0                         \n",
      "18                                                  0                         \n",
      "19                                                  0                         \n",
      "\n",
      "    Contra la Propiedad  Contra las Personas  \\\n",
      "0                   224                   60   \n",
      "1                   275                   67   \n",
      "2                   272                  108   \n",
      "3                   238                  115   \n",
      "4                   261                   94   \n",
      "5                   294                   95   \n",
      "6                   277                  115   \n",
      "7                   247                  116   \n",
      "8                   244                  105   \n",
      "9                   269                  125   \n",
      "10                  245                  132   \n",
      "11                  230                  131   \n",
      "12                  218                   80   \n",
      "13                  200                  111   \n",
      "14                  300                  117   \n",
      "15                  256                  143   \n",
      "16                  205                  114   \n",
      "17                  185                  105   \n",
      "18                  223                   98   \n",
      "19                  212                   98   \n",
      "\n",
      "    Otros Delitos Contra las Personas  Total Hechos delictuosos  nivel_riesgo  \n",
      "0                                 169                       453          bajo  \n",
      "1                                 182                       524          bajo  \n",
      "2                                 226                       606          bajo  \n",
      "3                                 226                       579          bajo  \n",
      "4                                 203                       558          bajo  \n",
      "5                                 275                       664          bajo  \n",
      "6                                 251                       643          bajo  \n",
      "7                                 210                       573          bajo  \n",
      "8                                 249                       598          bajo  \n",
      "9                                 239                       633          bajo  \n",
      "10                                182                       559          bajo  \n",
      "11                                174                       535          bajo  \n",
      "12                                186                       484          bajo  \n",
      "13                                202                       513          bajo  \n",
      "14                                262                       679          bajo  \n",
      "15                                182                       581          bajo  \n",
      "16                                226                       545          bajo  \n",
      "17                                227                       517          bajo  \n",
      "18                                223                       544          bajo  \n",
      "19                                175                       485          bajo  \n",
      "\n",
      "[20 rows x 39 columns]\n"
     ]
    }
   ],
   "source": [
    "print(df_modelo.head(20))\n"
   ]
  },
  {
   "cell_type": "markdown",
   "metadata": {},
   "source": [
    "### Entrenamiento del modelo (Árbol de decisiones)"
   ]
  },
  {
   "cell_type": "markdown",
   "metadata": {},
   "source": [
    "- Importo las librerías"
   ]
  },
  {
   "cell_type": "code",
   "execution_count": 24,
   "metadata": {},
   "outputs": [],
   "source": [
    "from sklearn.model_selection import train_test_split\n",
    "from sklearn.tree import DecisionTreeClassifier\n",
    "from sklearn.metrics import classification_report, confusion_matrix\n",
    "import matplotlib.pyplot as plt\n",
    "from sklearn.tree import plot_tree"
   ]
  },
  {
   "cell_type": "markdown",
   "metadata": {},
   "source": [
    "- Defino las variables predictoras X y la variable objetivo Y (representa el nivel de riesgo)"
   ]
  },
  {
   "cell_type": "code",
   "execution_count": 25,
   "metadata": {},
   "outputs": [],
   "source": [
    "X = df_modelo.drop(columns=['nivel_riesgo', 'anio', 'mes'])\n",
    "y = df_modelo['nivel_riesgo']"
   ]
  },
  {
   "cell_type": "markdown",
   "metadata": {},
   "source": [
    "- Divido el dataset conjunto de entrenamiento y pruebas"
   ]
  },
  {
   "cell_type": "code",
   "execution_count": 26,
   "metadata": {},
   "outputs": [],
   "source": [
    "X_train, X_test, y_train, y_test = train_test_split(\n",
    "    X, y, test_size=0.2, random_state=42, stratify=y\n",
    ")"
   ]
  },
  {
   "cell_type": "markdown",
   "metadata": {},
   "source": [
    "-  Creo un árbol de decisión y lo entreno con los datos de entrenamiento"
   ]
  },
  {
   "cell_type": "code",
   "execution_count": 27,
   "metadata": {},
   "outputs": [
    {
     "data": {
      "text/html": [
       "<style>#sk-container-id-1 {color: black;}#sk-container-id-1 pre{padding: 0;}#sk-container-id-1 div.sk-toggleable {background-color: white;}#sk-container-id-1 label.sk-toggleable__label {cursor: pointer;display: block;width: 100%;margin-bottom: 0;padding: 0.3em;box-sizing: border-box;text-align: center;}#sk-container-id-1 label.sk-toggleable__label-arrow:before {content: \"▸\";float: left;margin-right: 0.25em;color: #696969;}#sk-container-id-1 label.sk-toggleable__label-arrow:hover:before {color: black;}#sk-container-id-1 div.sk-estimator:hover label.sk-toggleable__label-arrow:before {color: black;}#sk-container-id-1 div.sk-toggleable__content {max-height: 0;max-width: 0;overflow: hidden;text-align: left;background-color: #f0f8ff;}#sk-container-id-1 div.sk-toggleable__content pre {margin: 0.2em;color: black;border-radius: 0.25em;background-color: #f0f8ff;}#sk-container-id-1 input.sk-toggleable__control:checked~div.sk-toggleable__content {max-height: 200px;max-width: 100%;overflow: auto;}#sk-container-id-1 input.sk-toggleable__control:checked~label.sk-toggleable__label-arrow:before {content: \"▾\";}#sk-container-id-1 div.sk-estimator input.sk-toggleable__control:checked~label.sk-toggleable__label {background-color: #d4ebff;}#sk-container-id-1 div.sk-label input.sk-toggleable__control:checked~label.sk-toggleable__label {background-color: #d4ebff;}#sk-container-id-1 input.sk-hidden--visually {border: 0;clip: rect(1px 1px 1px 1px);clip: rect(1px, 1px, 1px, 1px);height: 1px;margin: -1px;overflow: hidden;padding: 0;position: absolute;width: 1px;}#sk-container-id-1 div.sk-estimator {font-family: monospace;background-color: #f0f8ff;border: 1px dotted black;border-radius: 0.25em;box-sizing: border-box;margin-bottom: 0.5em;}#sk-container-id-1 div.sk-estimator:hover {background-color: #d4ebff;}#sk-container-id-1 div.sk-parallel-item::after {content: \"\";width: 100%;border-bottom: 1px solid gray;flex-grow: 1;}#sk-container-id-1 div.sk-label:hover label.sk-toggleable__label {background-color: #d4ebff;}#sk-container-id-1 div.sk-serial::before {content: \"\";position: absolute;border-left: 1px solid gray;box-sizing: border-box;top: 0;bottom: 0;left: 50%;z-index: 0;}#sk-container-id-1 div.sk-serial {display: flex;flex-direction: column;align-items: center;background-color: white;padding-right: 0.2em;padding-left: 0.2em;position: relative;}#sk-container-id-1 div.sk-item {position: relative;z-index: 1;}#sk-container-id-1 div.sk-parallel {display: flex;align-items: stretch;justify-content: center;background-color: white;position: relative;}#sk-container-id-1 div.sk-item::before, #sk-container-id-1 div.sk-parallel-item::before {content: \"\";position: absolute;border-left: 1px solid gray;box-sizing: border-box;top: 0;bottom: 0;left: 50%;z-index: -1;}#sk-container-id-1 div.sk-parallel-item {display: flex;flex-direction: column;z-index: 1;position: relative;background-color: white;}#sk-container-id-1 div.sk-parallel-item:first-child::after {align-self: flex-end;width: 50%;}#sk-container-id-1 div.sk-parallel-item:last-child::after {align-self: flex-start;width: 50%;}#sk-container-id-1 div.sk-parallel-item:only-child::after {width: 0;}#sk-container-id-1 div.sk-dashed-wrapped {border: 1px dashed gray;margin: 0 0.4em 0.5em 0.4em;box-sizing: border-box;padding-bottom: 0.4em;background-color: white;}#sk-container-id-1 div.sk-label label {font-family: monospace;font-weight: bold;display: inline-block;line-height: 1.2em;}#sk-container-id-1 div.sk-label-container {text-align: center;}#sk-container-id-1 div.sk-container {/* jupyter's `normalize.less` sets `[hidden] { display: none; }` but bootstrap.min.css set `[hidden] { display: none !important; }` so we also need the `!important` here to be able to override the default hidden behavior on the sphinx rendered scikit-learn.org. See: https://github.com/scikit-learn/scikit-learn/issues/21755 */display: inline-block !important;position: relative;}#sk-container-id-1 div.sk-text-repr-fallback {display: none;}</style><div id=\"sk-container-id-1\" class=\"sk-top-container\"><div class=\"sk-text-repr-fallback\"><pre>DecisionTreeClassifier(max_depth=4, random_state=42)</pre><b>In a Jupyter environment, please rerun this cell to show the HTML representation or trust the notebook. <br />On GitHub, the HTML representation is unable to render, please try loading this page with nbviewer.org.</b></div><div class=\"sk-container\" hidden><div class=\"sk-item\"><div class=\"sk-estimator sk-toggleable\"><input class=\"sk-toggleable__control sk-hidden--visually\" id=\"sk-estimator-id-1\" type=\"checkbox\" checked><label for=\"sk-estimator-id-1\" class=\"sk-toggleable__label sk-toggleable__label-arrow\">DecisionTreeClassifier</label><div class=\"sk-toggleable__content\"><pre>DecisionTreeClassifier(max_depth=4, random_state=42)</pre></div></div></div></div></div>"
      ],
      "text/plain": [
       "DecisionTreeClassifier(max_depth=4, random_state=42)"
      ]
     },
     "execution_count": 27,
     "metadata": {},
     "output_type": "execute_result"
    }
   ],
   "source": [
    "clf = DecisionTreeClassifier(max_depth=4, random_state=42)\n",
    "clf.fit(X_train, y_train)"
   ]
  },
  {
   "cell_type": "markdown",
   "metadata": {},
   "source": [
    "- Realizo predicciones y muestra el rendimiento del modelo "
   ]
  },
  {
   "cell_type": "code",
   "execution_count": 28,
   "metadata": {},
   "outputs": [
    {
     "name": "stdout",
     "output_type": "stream",
     "text": [
      "Reporte de Clasificación:\n",
      "               precision    recall  f1-score   support\n",
      "\n",
      "        alto       1.00      1.00      1.00         8\n",
      "        bajo       1.00      1.00      1.00         8\n",
      "       medio       1.00      1.00      1.00         8\n",
      "\n",
      "    accuracy                           1.00        24\n",
      "   macro avg       1.00      1.00      1.00        24\n",
      "weighted avg       1.00      1.00      1.00        24\n",
      "\n"
     ]
    }
   ],
   "source": [
    "y_pred = clf.predict(X_test)\n",
    "print(\"Reporte de Clasificación:\\n\", classification_report(y_test, y_pred))\n"
   ]
  },
  {
   "cell_type": "markdown",
   "metadata": {},
   "source": [
    "- Dibujo el árbol de decisión entrenado"
   ]
  },
  {
   "cell_type": "code",
   "execution_count": 29,
   "metadata": {},
   "outputs": [
    {
     "data": {
      "image/png": "[encoded data removed]",
      "text/plain": [
       "<Figure size 2000x1000 with 1 Axes>"
      ]
     },
     "metadata": {},
     "output_type": "display_data"
    }
   ],
   "source": [
    "plt.figure(figsize=(20, 10))\n",
    "plot_tree(clf, feature_names=X.columns, class_names=clf.classes_, filled=True, fontsize=10)\n",
    "plt.title(\"Árbol de decisión para clasificar riesgo mensual\")\n",
    "plt.show()"
   ]
  },
  {
   "cell_type": "markdown",
   "metadata": {},
   "source": [
    "- Interpretación: El modelo aprendió que si la cantidad total de delitos en un mes es menor o igual a 726, se clasifica como riesgo bajo. Si el valor está entre 726 y 890, se clasifica como riesgo medio. Y si supera los 890, se considera riesgo alto. Este árbol de decisión es fácil de interpretar y resulta muy útil para entender de forma clara cómo el modelo toma decisiones."
   ]
  },
  {
   "cell_type": "markdown",
   "metadata": {},
   "source": [
    "### Realizo el modelo con Regresión Logística para comparar\n"
   ]
  },
  {
   "cell_type": "markdown",
   "metadata": {},
   "source": [
    "- Importo las librerías"
   ]
  },
  {
   "cell_type": "code",
   "execution_count": 30,
   "metadata": {},
   "outputs": [],
   "source": [
    "from sklearn.linear_model import LogisticRegression\n",
    "from sklearn.metrics import ConfusionMatrixDisplay"
   ]
  },
  {
   "cell_type": "markdown",
   "metadata": {},
   "source": [
    "- Entreno un modelo de regresión logística con 1000 iteraciones como máximo"
   ]
  },
  {
   "cell_type": "code",
   "execution_count": 31,
   "metadata": {},
   "outputs": [
    {
     "name": "stderr",
     "output_type": "stream",
     "text": [
      "c:\\Users\\Juana\\AppData\\Local\\Programs\\Python\\Python38\\lib\\site-packages\\sklearn\\linear_model\\_logistic.py:460: ConvergenceWarning: lbfgs failed to converge (status=1):\n",
      "STOP: TOTAL NO. of ITERATIONS REACHED LIMIT.\n",
      "\n",
      "Increase the number of iterations (max_iter) or scale the data as shown in:\n",
      "    https://scikit-learn.org/stable/modules/preprocessing.html\n",
      "Please also refer to the documentation for alternative solver options:\n",
      "    https://scikit-learn.org/stable/modules/linear_model.html#logistic-regression\n",
      "  n_iter_i = _check_optimize_result(\n"
     ]
    },
    {
     "data": {
      "text/html": [
       "<style>#sk-container-id-2 {color: black;}#sk-container-id-2 pre{padding: 0;}#sk-container-id-2 div.sk-toggleable {background-color: white;}#sk-container-id-2 label.sk-toggleable__label {cursor: pointer;display: block;width: 100%;margin-bottom: 0;padding: 0.3em;box-sizing: border-box;text-align: center;}#sk-container-id-2 label.sk-toggleable__label-arrow:before {content: \"▸\";float: left;margin-right: 0.25em;color: #696969;}#sk-container-id-2 label.sk-toggleable__label-arrow:hover:before {color: black;}#sk-container-id-2 div.sk-estimator:hover label.sk-toggleable__label-arrow:before {color: black;}#sk-container-id-2 div.sk-toggleable__content {max-height: 0;max-width: 0;overflow: hidden;text-align: left;background-color: #f0f8ff;}#sk-container-id-2 div.sk-toggleable__content pre {margin: 0.2em;color: black;border-radius: 0.25em;background-color: #f0f8ff;}#sk-container-id-2 input.sk-toggleable__control:checked~div.sk-toggleable__content {max-height: 200px;max-width: 100%;overflow: auto;}#sk-container-id-2 input.sk-toggleable__control:checked~label.sk-toggleable__label-arrow:before {content: \"▾\";}#sk-container-id-2 div.sk-estimator input.sk-toggleable__control:checked~label.sk-toggleable__label {background-color: #d4ebff;}#sk-container-id-2 div.sk-label input.sk-toggleable__control:checked~label.sk-toggleable__label {background-color: #d4ebff;}#sk-container-id-2 input.sk-hidden--visually {border: 0;clip: rect(1px 1px 1px 1px);clip: rect(1px, 1px, 1px, 1px);height: 1px;margin: -1px;overflow: hidden;padding: 0;position: absolute;width: 1px;}#sk-container-id-2 div.sk-estimator {font-family: monospace;background-color: #f0f8ff;border: 1px dotted black;border-radius: 0.25em;box-sizing: border-box;margin-bottom: 0.5em;}#sk-container-id-2 div.sk-estimator:hover {background-color: #d4ebff;}#sk-container-id-2 div.sk-parallel-item::after {content: \"\";width: 100%;border-bottom: 1px solid gray;flex-grow: 1;}#sk-container-id-2 div.sk-label:hover label.sk-toggleable__label {background-color: #d4ebff;}#sk-container-id-2 div.sk-serial::before {content: \"\";position: absolute;border-left: 1px solid gray;box-sizing: border-box;top: 0;bottom: 0;left: 50%;z-index: 0;}#sk-container-id-2 div.sk-serial {display: flex;flex-direction: column;align-items: center;background-color: white;padding-right: 0.2em;padding-left: 0.2em;position: relative;}#sk-container-id-2 div.sk-item {position: relative;z-index: 1;}#sk-container-id-2 div.sk-parallel {display: flex;align-items: stretch;justify-content: center;background-color: white;position: relative;}#sk-container-id-2 div.sk-item::before, #sk-container-id-2 div.sk-parallel-item::before {content: \"\";position: absolute;border-left: 1px solid gray;box-sizing: border-box;top: 0;bottom: 0;left: 50%;z-index: -1;}#sk-container-id-2 div.sk-parallel-item {display: flex;flex-direction: column;z-index: 1;position: relative;background-color: white;}#sk-container-id-2 div.sk-parallel-item:first-child::after {align-self: flex-end;width: 50%;}#sk-container-id-2 div.sk-parallel-item:last-child::after {align-self: flex-start;width: 50%;}#sk-container-id-2 div.sk-parallel-item:only-child::after {width: 0;}#sk-container-id-2 div.sk-dashed-wrapped {border: 1px dashed gray;margin: 0 0.4em 0.5em 0.4em;box-sizing: border-box;padding-bottom: 0.4em;background-color: white;}#sk-container-id-2 div.sk-label label {font-family: monospace;font-weight: bold;display: inline-block;line-height: 1.2em;}#sk-container-id-2 div.sk-label-container {text-align: center;}#sk-container-id-2 div.sk-container {/* jupyter's `normalize.less` sets `[hidden] { display: none; }` but bootstrap.min.css set `[hidden] { display: none !important; }` so we also need the `!important` here to be able to override the default hidden behavior on the sphinx rendered scikit-learn.org. See: https://github.com/scikit-learn/scikit-learn/issues/21755 */display: inline-block !important;position: relative;}#sk-container-id-2 div.sk-text-repr-fallback {display: none;}</style><div id=\"sk-container-id-2\" class=\"sk-top-container\"><div class=\"sk-text-repr-fallback\"><pre>LogisticRegression(max_iter=1000, random_state=42)</pre><b>In a Jupyter environment, please rerun this cell to show the HTML representation or trust the notebook. <br />On GitHub, the HTML representation is unable to render, please try loading this page with nbviewer.org.</b></div><div class=\"sk-container\" hidden><div class=\"sk-item\"><div class=\"sk-estimator sk-toggleable\"><input class=\"sk-toggleable__control sk-hidden--visually\" id=\"sk-estimator-id-2\" type=\"checkbox\" checked><label for=\"sk-estimator-id-2\" class=\"sk-toggleable__label sk-toggleable__label-arrow\">LogisticRegression</label><div class=\"sk-toggleable__content\"><pre>LogisticRegression(max_iter=1000, random_state=42)</pre></div></div></div></div></div>"
      ],
      "text/plain": [
       "LogisticRegression(max_iter=1000, random_state=42)"
      ]
     },
     "execution_count": 31,
     "metadata": {},
     "output_type": "execute_result"
    }
   ],
   "source": [
    "log_model = LogisticRegression(max_iter=1000, random_state=42)\n",
    "log_model.fit(X_train, y_train)"
   ]
  },
  {
   "cell_type": "markdown",
   "metadata": {},
   "source": [
    "- Genero predicciones del modelo de regresión logística"
   ]
  },
  {
   "cell_type": "code",
   "execution_count": 32,
   "metadata": {},
   "outputs": [],
   "source": [
    "y_pred_log = log_model.predict(X_test)\n"
   ]
  },
  {
   "cell_type": "markdown",
   "metadata": {},
   "source": [
    "- Muestro las métricas de evaluación del modelo"
   ]
  },
  {
   "cell_type": "code",
   "execution_count": 33,
   "metadata": {},
   "outputs": [
    {
     "name": "stdout",
     "output_type": "stream",
     "text": [
      "Regresión Logística\n",
      "\n",
      "              precision    recall  f1-score   support\n",
      "\n",
      "        alto       0.56      0.62      0.59         8\n",
      "        bajo       0.83      0.62      0.71         8\n",
      "       medio       0.33      0.38      0.35         8\n",
      "\n",
      "    accuracy                           0.54        24\n",
      "   macro avg       0.57      0.54      0.55        24\n",
      "weighted avg       0.57      0.54      0.55        24\n",
      "\n"
     ]
    }
   ],
   "source": [
    "print(\"Regresión Logística\\n\")\n",
    "print(classification_report(y_test, y_pred_log))"
   ]
  },
  {
   "cell_type": "markdown",
   "metadata": {},
   "source": [
    "- Grafico la matriz de confusión"
   ]
  },
  {
   "cell_type": "code",
   "execution_count": 34,
   "metadata": {},
   "outputs": [
    {
     "data": {
      "image/png": "[encoded data removed]",
      "text/plain": [
       "<Figure size 640x480 with 2 Axes>"
      ]
     },
     "metadata": {},
     "output_type": "display_data"
    }
   ],
   "source": [
    "ConfusionMatrixDisplay.from_estimator(log_model, X_test, y_test)\n",
    "plt.title(\"Matriz de Confusión - Regresión Logística\")\n",
    "plt.show()"
   ]
  },
  {
   "cell_type": "markdown",
   "metadata": {},
   "source": [
    "- Interpretación: El modelo de regresión logística tuvo más dificultad para predecir los meses con riesgo medio. Se confundió varias veces con riesgo alto y bajo, como se ve en la matriz, donde hay varios errores y no todas las predicciones coinciden con los valores reales."
   ]
  },
  {
   "cell_type": "markdown",
   "metadata": {},
   "source": [
    "### Entrenamiento del modelo (Árbol de decisiones)"
   ]
  },
  {
   "cell_type": "markdown",
   "metadata": {},
   "source": [
    "- Importo la librería"
   ]
  },
  {
   "cell_type": "code",
   "execution_count": 35,
   "metadata": {},
   "outputs": [],
   "source": [
    "from sklearn.ensemble import RandomForestClassifier\n"
   ]
  },
  {
   "cell_type": "markdown",
   "metadata": {},
   "source": [
    "- Entreno un modelo Random Forest con 100 árboles"
   ]
  },
  {
   "cell_type": "code",
   "execution_count": 36,
   "metadata": {},
   "outputs": [
    {
     "data": {
      "text/html": [
       "<style>#sk-container-id-3 {color: black;}#sk-container-id-3 pre{padding: 0;}#sk-container-id-3 div.sk-toggleable {background-color: white;}#sk-container-id-3 label.sk-toggleable__label {cursor: pointer;display: block;width: 100%;margin-bottom: 0;padding: 0.3em;box-sizing: border-box;text-align: center;}#sk-container-id-3 label.sk-toggleable__label-arrow:before {content: \"▸\";float: left;margin-right: 0.25em;color: #696969;}#sk-container-id-3 label.sk-toggleable__label-arrow:hover:before {color: black;}#sk-container-id-3 div.sk-estimator:hover label.sk-toggleable__label-arrow:before {color: black;}#sk-container-id-3 div.sk-toggleable__content {max-height: 0;max-width: 0;overflow: hidden;text-align: left;background-color: #f0f8ff;}#sk-container-id-3 div.sk-toggleable__content pre {margin: 0.2em;color: black;border-radius: 0.25em;background-color: #f0f8ff;}#sk-container-id-3 input.sk-toggleable__control:checked~div.sk-toggleable__content {max-height: 200px;max-width: 100%;overflow: auto;}#sk-container-id-3 input.sk-toggleable__control:checked~label.sk-toggleable__label-arrow:before {content: \"▾\";}#sk-container-id-3 div.sk-estimator input.sk-toggleable__control:checked~label.sk-toggleable__label {background-color: #d4ebff;}#sk-container-id-3 div.sk-label input.sk-toggleable__control:checked~label.sk-toggleable__label {background-color: #d4ebff;}#sk-container-id-3 input.sk-hidden--visually {border: 0;clip: rect(1px 1px 1px 1px);clip: rect(1px, 1px, 1px, 1px);height: 1px;margin: -1px;overflow: hidden;padding: 0;position: absolute;width: 1px;}#sk-container-id-3 div.sk-estimator {font-family: monospace;background-color: #f0f8ff;border: 1px dotted black;border-radius: 0.25em;box-sizing: border-box;margin-bottom: 0.5em;}#sk-container-id-3 div.sk-estimator:hover {background-color: #d4ebff;}#sk-container-id-3 div.sk-parallel-item::after {content: \"\";width: 100%;border-bottom: 1px solid gray;flex-grow: 1;}#sk-container-id-3 div.sk-label:hover label.sk-toggleable__label {background-color: #d4ebff;}#sk-container-id-3 div.sk-serial::before {content: \"\";position: absolute;border-left: 1px solid gray;box-sizing: border-box;top: 0;bottom: 0;left: 50%;z-index: 0;}#sk-container-id-3 div.sk-serial {display: flex;flex-direction: column;align-items: center;background-color: white;padding-right: 0.2em;padding-left: 0.2em;position: relative;}#sk-container-id-3 div.sk-item {position: relative;z-index: 1;}#sk-container-id-3 div.sk-parallel {display: flex;align-items: stretch;justify-content: center;background-color: white;position: relative;}#sk-container-id-3 div.sk-item::before, #sk-container-id-3 div.sk-parallel-item::before {content: \"\";position: absolute;border-left: 1px solid gray;box-sizing: border-box;top: 0;bottom: 0;left: 50%;z-index: -1;}#sk-container-id-3 div.sk-parallel-item {display: flex;flex-direction: column;z-index: 1;position: relative;background-color: white;}#sk-container-id-3 div.sk-parallel-item:first-child::after {align-self: flex-end;width: 50%;}#sk-container-id-3 div.sk-parallel-item:last-child::after {align-self: flex-start;width: 50%;}#sk-container-id-3 div.sk-parallel-item:only-child::after {width: 0;}#sk-container-id-3 div.sk-dashed-wrapped {border: 1px dashed gray;margin: 0 0.4em 0.5em 0.4em;box-sizing: border-box;padding-bottom: 0.4em;background-color: white;}#sk-container-id-3 div.sk-label label {font-family: monospace;font-weight: bold;display: inline-block;line-height: 1.2em;}#sk-container-id-3 div.sk-label-container {text-align: center;}#sk-container-id-3 div.sk-container {/* jupyter's `normalize.less` sets `[hidden] { display: none; }` but bootstrap.min.css set `[hidden] { display: none !important; }` so we also need the `!important` here to be able to override the default hidden behavior on the sphinx rendered scikit-learn.org. See: https://github.com/scikit-learn/scikit-learn/issues/21755 */display: inline-block !important;position: relative;}#sk-container-id-3 div.sk-text-repr-fallback {display: none;}</style><div id=\"sk-container-id-3\" class=\"sk-top-container\"><div class=\"sk-text-repr-fallback\"><pre>RandomForestClassifier(random_state=42)</pre><b>In a Jupyter environment, please rerun this cell to show the HTML representation or trust the notebook. <br />On GitHub, the HTML representation is unable to render, please try loading this page with nbviewer.org.</b></div><div class=\"sk-container\" hidden><div class=\"sk-item\"><div class=\"sk-estimator sk-toggleable\"><input class=\"sk-toggleable__control sk-hidden--visually\" id=\"sk-estimator-id-3\" type=\"checkbox\" checked><label for=\"sk-estimator-id-3\" class=\"sk-toggleable__label sk-toggleable__label-arrow\">RandomForestClassifier</label><div class=\"sk-toggleable__content\"><pre>RandomForestClassifier(random_state=42)</pre></div></div></div></div></div>"
      ],
      "text/plain": [
       "RandomForestClassifier(random_state=42)"
      ]
     },
     "execution_count": 36,
     "metadata": {},
     "output_type": "execute_result"
    }
   ],
   "source": [
    "rf_model = RandomForestClassifier(n_estimators=100, random_state=42)\n",
    "rf_model.fit(X_train, y_train)"
   ]
  },
  {
   "cell_type": "markdown",
   "metadata": {},
   "source": [
    "- Genero predicciones del modelo Random Forest"
   ]
  },
  {
   "cell_type": "code",
   "execution_count": 37,
   "metadata": {},
   "outputs": [],
   "source": [
    "y_pred_rf = rf_model.predict(X_test)\n"
   ]
  },
  {
   "cell_type": "markdown",
   "metadata": {},
   "source": [
    "- Muestro métricas del modelo"
   ]
  },
  {
   "cell_type": "code",
   "execution_count": 38,
   "metadata": {},
   "outputs": [
    {
     "name": "stdout",
     "output_type": "stream",
     "text": [
      "Random Forest\n",
      "\n",
      "              precision    recall  f1-score   support\n",
      "\n",
      "        alto       1.00      1.00      1.00         8\n",
      "        bajo       1.00      0.88      0.93         8\n",
      "       medio       0.89      1.00      0.94         8\n",
      "\n",
      "    accuracy                           0.96        24\n",
      "   macro avg       0.96      0.96      0.96        24\n",
      "weighted avg       0.96      0.96      0.96        24\n",
      "\n"
     ]
    }
   ],
   "source": [
    "print(\"Random Forest\\n\")\n",
    "print(classification_report(y_test, y_pred_rf))"
   ]
  },
  {
   "cell_type": "markdown",
   "metadata": {},
   "source": [
    "- Grafico la matriz de confusión"
   ]
  },
  {
   "cell_type": "code",
   "execution_count": 39,
   "metadata": {},
   "outputs": [
    {
     "data": {
      "image/png": "[encoded data removed]",
      "text/plain": [
       "<Figure size 640x480 with 2 Axes>"
      ]
     },
     "metadata": {},
     "output_type": "display_data"
    }
   ],
   "source": [
    "ConfusionMatrixDisplay.from_estimator(rf_model, X_test, y_test)\n",
    "plt.title(\"Matriz de Confusión - Random Forest\")\n",
    "plt.show()"
   ]
  },
  {
   "cell_type": "markdown",
   "metadata": {},
   "source": [
    "- Interpretación: Este modelo muestra un rendimiento significativamente mejor. La mayoría de las predicciones fueron correctas y casi no se confundió entre clases. Se nota que logró identificar bien los meses de riesgo bajo, medio y alto."
   ]
  },
  {
   "cell_type": "markdown",
   "metadata": {},
   "source": [
    "# Objetivo Nº2: Clasificar cada año como \"crítico\" o \"no crítico\" según el total anual de hechos delictivos\n",
    "### Creación de las etiquetas \"crítico\" y \"no crítico\".\n",
    "### Modelado"
   ]
  },
  {
   "cell_type": "markdown",
   "metadata": {},
   "source": [
    "- Agrupo la cantidad total de delitos por año y renombro la columna"
   ]
  },
  {
   "cell_type": "code",
   "execution_count": 40,
   "metadata": {},
   "outputs": [],
   "source": [
    "df_anual = df_tdf_largo.groupby(\"anio\")[\"cantidad\"].sum().reset_index()\n",
    "df_anual.rename(columns={\"cantidad\": \"total_delitos\"}, inplace=True)"
   ]
  },
  {
   "cell_type": "markdown",
   "metadata": {},
   "source": [
    "- Creo una etiqueta para marcar los años con nivel crítico (por encima del percentil 75)"
   ]
  },
  {
   "cell_type": "code",
   "execution_count": 41,
   "metadata": {},
   "outputs": [],
   "source": [
    "umbral = df_anual[\"total_delitos\"].quantile(0.75)\n",
    "df_anual[\"critico\"] = (df_anual[\"total_delitos\"] > umbral).astype(int)"
   ]
  },
  {
   "cell_type": "markdown",
   "metadata": {},
   "source": [
    "- Reestructuro los datos para tener una fila por año y una columna por tipo de delito con la suma total"
   ]
  },
  {
   "cell_type": "code",
   "execution_count": 42,
   "metadata": {},
   "outputs": [],
   "source": [
    "df_pivot = df_tdf_largo.pivot_table(\n",
    "    index=\"anio\",\n",
    "    columns=\"tipo_delito\",\n",
    "    values=\"cantidad\",\n",
    "    aggfunc=\"sum\",\n",
    "    fill_value=0\n",
    ").reset_index()"
   ]
  },
  {
   "cell_type": "markdown",
   "metadata": {},
   "source": [
    "- Une los datos de características anuales con la etiqueta de año crítico"
   ]
  },
  {
   "cell_type": "code",
   "execution_count": 43,
   "metadata": {},
   "outputs": [],
   "source": [
    "df_final = df_pivot.merge(df_anual[[\"anio\", \"critico\"]], on=\"anio\")\n"
   ]
  },
  {
   "cell_type": "markdown",
   "metadata": {},
   "source": [
    "- Separo las variables predictoras y la variable objetivo (crítico)"
   ]
  },
  {
   "cell_type": "code",
   "execution_count": 44,
   "metadata": {},
   "outputs": [],
   "source": [
    "X = df_final.drop(columns=[\"anio\", \"critico\"])\n",
    "y = df_final[\"critico\"]"
   ]
  },
  {
   "cell_type": "markdown",
   "metadata": {},
   "source": [
    "### Entrenamiento del modelo"
   ]
  },
  {
   "cell_type": "markdown",
   "metadata": {},
   "source": [
    "- Importo las librerías"
   ]
  },
  {
   "cell_type": "code",
   "execution_count": 45,
   "metadata": {},
   "outputs": [],
   "source": [
    "from sklearn.model_selection import train_test_split\n",
    "from sklearn.preprocessing import StandardScaler\n",
    "from sklearn.linear_model import LogisticRegression\n",
    "from sklearn.tree import DecisionTreeClassifier\n",
    "from sklearn.ensemble import RandomForestClassifier\n",
    "from sklearn.metrics import accuracy_score, classification_report, confusion_matrix\n",
    "import matplotlib.pyplot as plt\n",
    "import seaborn as sns\n"
   ]
  },
  {
   "cell_type": "markdown",
   "metadata": {},
   "source": [
    "- Estandarizo las variables predictoras para mejorar el rendimiento"
   ]
  },
  {
   "cell_type": "code",
   "execution_count": 46,
   "metadata": {},
   "outputs": [],
   "source": [
    "scaler = StandardScaler()\n",
    "X_scaled = scaler.fit_transform(X)"
   ]
  },
  {
   "cell_type": "markdown",
   "metadata": {},
   "source": [
    "- Divido los datos en conjunto de entrenamiento y pruebas"
   ]
  },
  {
   "cell_type": "code",
   "execution_count": 47,
   "metadata": {},
   "outputs": [],
   "source": [
    "X_train, X_test, y_train, y_test = train_test_split(X_scaled, y, test_size=0.3, random_state=42)\n"
   ]
  },
  {
   "cell_type": "markdown",
   "metadata": {},
   "source": [
    "- Defino un diccionario con tres modelos distintos para comparar su rendimiento."
   ]
  },
  {
   "cell_type": "code",
   "execution_count": 48,
   "metadata": {},
   "outputs": [],
   "source": [
    "modelos = {\n",
    "    \"Árbol de Decisión\": DecisionTreeClassifier(random_state=42),\n",
    "    \"Regresión Logística\": LogisticRegression(max_iter=2000),\n",
    "    \"Random Forest\": RandomForestClassifier(n_estimators=100, random_state=42)\n",
    "}"
   ]
  },
  {
   "cell_type": "markdown",
   "metadata": {},
   "source": [
    "- Entreno y evalúo cada modelo mostrando precisión, métricas y la matriz de confusion"
   ]
  },
  {
   "cell_type": "code",
   "execution_count": 73,
   "metadata": {},
   "outputs": [
    {
     "name": "stdout",
     "output_type": "stream",
     "text": [
      "\n",
      "Modelo: Árbol de Decisión\n",
      "Accuracy: 0.71\n",
      "Classification Report:\n",
      "               precision    recall  f1-score   support\n",
      "\n",
      "           0       0.84      0.77      0.80        53\n",
      "           1       0.43      0.53      0.47        17\n",
      "\n",
      "    accuracy                           0.71        70\n",
      "   macro avg       0.63      0.65      0.64        70\n",
      "weighted avg       0.74      0.71      0.72        70\n",
      "\n"
     ]
    },
    {
     "data": {
      "image/png": "[encoded data removed]",
      "text/plain": [
       "<Figure size 640x480 with 2 Axes>"
      ]
     },
     "metadata": {},
     "output_type": "display_data"
    },
    {
     "name": "stdout",
     "output_type": "stream",
     "text": [
      "\n",
      "Modelo: Regresión Logística\n",
      "Accuracy: 0.76\n",
      "Classification Report:\n",
      "               precision    recall  f1-score   support\n",
      "\n",
      "           0       0.76      1.00      0.86        53\n",
      "           1       0.00      0.00      0.00        17\n",
      "\n",
      "    accuracy                           0.76        70\n",
      "   macro avg       0.38      0.50      0.43        70\n",
      "weighted avg       0.57      0.76      0.65        70\n",
      "\n"
     ]
    },
    {
     "name": "stderr",
     "output_type": "stream",
     "text": [
      "c:\\Users\\Juana\\AppData\\Local\\Programs\\Python\\Python38\\lib\\site-packages\\sklearn\\metrics\\_classification.py:1471: UndefinedMetricWarning: Precision and F-score are ill-defined and being set to 0.0 in labels with no predicted samples. Use `zero_division` parameter to control this behavior.\n",
      "  _warn_prf(average, modifier, msg_start, len(result))\n",
      "c:\\Users\\Juana\\AppData\\Local\\Programs\\Python\\Python38\\lib\\site-packages\\sklearn\\metrics\\_classification.py:1471: UndefinedMetricWarning: Precision and F-score are ill-defined and being set to 0.0 in labels with no predicted samples. Use `zero_division` parameter to control this behavior.\n",
      "  _warn_prf(average, modifier, msg_start, len(result))\n",
      "c:\\Users\\Juana\\AppData\\Local\\Programs\\Python\\Python38\\lib\\site-packages\\sklearn\\metrics\\_classification.py:1471: UndefinedMetricWarning: Precision and F-score are ill-defined and being set to 0.0 in labels with no predicted samples. Use `zero_division` parameter to control this behavior.\n",
      "  _warn_prf(average, modifier, msg_start, len(result))\n"
     ]
    },
    {
     "data": {
      "image/png": "[encoded data removed]",
      "text/plain": [
       "<Figure size 640x480 with 2 Axes>"
      ]
     },
     "metadata": {},
     "output_type": "display_data"
    },
    {
     "name": "stdout",
     "output_type": "stream",
     "text": [
      "\n",
      "Modelo: Random Forest\n",
      "Accuracy: 0.67\n",
      "Classification Report:\n",
      "               precision    recall  f1-score   support\n",
      "\n",
      "           0       0.78      0.79      0.79        53\n",
      "           1       0.31      0.29      0.30        17\n",
      "\n",
      "    accuracy                           0.67        70\n",
      "   macro avg       0.55      0.54      0.54        70\n",
      "weighted avg       0.66      0.67      0.67        70\n",
      "\n"
     ]
    },
    {
     "data": {
      "image/png": "[encoded data removed]",
      "text/plain": [
       "<Figure size 640x480 with 2 Axes>"
      ]
     },
     "metadata": {},
     "output_type": "display_data"
    }
   ],
   "source": [
    "for nombre, modelo in modelos.items():\n",
    "    modelo.fit(X_train, y_train)\n",
    "    y_pred = modelo.predict(X_test)\n",
    "\n",
    "    print(f\"\\nModelo: {nombre}\")\n",
    "    print(f\"Accuracy: {accuracy_score(y_test, y_pred):.2f}\")\n",
    "    print(\"Classification Report:\\n\", classification_report(y_test, y_pred))\n",
    "\n",
    "    matriz = confusion_matrix(y_test, y_pred)\n",
    "    sns.heatmap(matriz, annot=True, fmt=\"d\", cmap=\"Blues\")\n",
    "    plt.title(f\"Matriz de Confusión - {nombre}\")\n",
    "    plt.xlabel(\"Predicción\")\n",
    "    plt.ylabel(\"Real\")\n",
    "    plt.show()"
   ]
  },
  {
   "cell_type": "markdown",
   "metadata": {},
   "source": [
    "- Interpretación general: Al comparar los tres modelos, se observa que el modelo de Random Forest ofrece mejores resultados en general. Tiene menos errores y logra distinguir mejor entre los distintos niveles de riesgo o etiquetas objetivo. El árbol de decisión es más fácil de interpretar, pero menos preciso. La regresión logística tiene un rendimiento intermedio, aunque muestra algo más de confusión entre clases. Esta comparación es útil para elegir el modelo según el objetivo: si queremos entender cómo toma decisiones, usamos el árbol; si buscamos mejor rendimiento, elegimos Random Forest."
   ]
  },
  {
   "cell_type": "markdown",
   "metadata": {},
   "source": [
    "# Objetivo Nº3: Predecir cuál tipo de delito es el más probable que se repita en un determinado mes.\n",
    "# Modelado\n"
   ]
  },
  {
   "cell_type": "markdown",
   "metadata": {},
   "source": [
    "- Importo las librerías"
   ]
  },
  {
   "cell_type": "code",
   "execution_count": 50,
   "metadata": {},
   "outputs": [],
   "source": [
    "import pandas as pd\n",
    "from sklearn.ensemble import RandomForestClassifier\n",
    "from sklearn.model_selection import train_test_split\n",
    "from sklearn.metrics import classification_report"
   ]
  },
  {
   "cell_type": "markdown",
   "metadata": {},
   "source": [
    "- Agrupo la cantidad de delitos por tipo, año y mes para obtener el total mensual por categorías"
   ]
  },
  {
   "cell_type": "code",
   "execution_count": 51,
   "metadata": {},
   "outputs": [],
   "source": [
    "df_mensual = df_tdf_largo.groupby([\"anio\", \"mes\", \"tipo_delito\"])[\"cantidad\"].sum().reset_index()\n"
   ]
  },
  {
   "cell_type": "markdown",
   "metadata": {},
   "source": [
    "- Elimina la categoría \"total hechos delictuosos\" para evitar sesgo en la predicción\n"
   ]
  },
  {
   "cell_type": "code",
   "execution_count": 52,
   "metadata": {},
   "outputs": [],
   "source": [
    "df_mensual = df_mensual[df_mensual[\"tipo_delito\"] != \"Total Hechos delictuosos\"]\n"
   ]
  },
  {
   "cell_type": "markdown",
   "metadata": {},
   "source": [
    "- Extraigo el tipo de delito más frecuente por mes y lo defino como variable objetivo (delito_frecuente)"
   ]
  },
  {
   "cell_type": "code",
   "execution_count": 53,
   "metadata": {},
   "outputs": [],
   "source": [
    "df_top_delito = df_mensual.loc[df_mensual.groupby([\"anio\", \"mes\"])[\"cantidad\"].idxmax()]\n",
    "df_top_delito = df_top_delito[[\"anio\", \"mes\", \"tipo_delito\"]].rename(columns={\"tipo_delito\": \"delito_frecuente\"})\n"
   ]
  },
  {
   "cell_type": "markdown",
   "metadata": {},
   "source": [
    "- Creo una matriz con cada tipo de delito como columna y el total mensual como valor"
   ]
  },
  {
   "cell_type": "code",
   "execution_count": 54,
   "metadata": {},
   "outputs": [],
   "source": [
    "df_mensual_pivot = df_mensual.pivot_table(\n",
    "    index=[\"anio\", \"mes\"],\n",
    "    columns=\"tipo_delito\",\n",
    "    values=\"cantidad\",\n",
    "    fill_value=0\n",
    ").reset_index()"
   ]
  },
  {
   "cell_type": "markdown",
   "metadata": {},
   "source": [
    "- Uno la matriz de características con el target"
   ]
  },
  {
   "cell_type": "code",
   "execution_count": 55,
   "metadata": {},
   "outputs": [],
   "source": [
    "df_modelo = df_mensual_pivot.merge(df_top_delito, on=[\"anio\", \"mes\"])\n"
   ]
  },
  {
   "cell_type": "markdown",
   "metadata": {},
   "source": [
    "- Separo las variables predictoras del objetivo"
   ]
  },
  {
   "cell_type": "code",
   "execution_count": 56,
   "metadata": {},
   "outputs": [],
   "source": [
    "X = df_modelo.drop(columns=[\"anio\", \"mes\", \"delito_frecuente\"])\n",
    "y = df_modelo[\"delito_frecuente\"]"
   ]
  },
  {
   "cell_type": "markdown",
   "metadata": {},
   "source": [
    "### Entrenamiento"
   ]
  },
  {
   "cell_type": "code",
   "execution_count": 57,
   "metadata": {},
   "outputs": [],
   "source": [
    "X_train, X_test, y_train, y_test = train_test_split(X, y, test_size=0.3, random_state=42)\n",
    "modelo = RandomForestClassifier(random_state=42)\n",
    "modelo.fit(X_train, y_train)\n",
    "y_pred = modelo.predict(X_test)\n"
   ]
  },
  {
   "cell_type": "markdown",
   "metadata": {},
   "source": [
    "### Predicción"
   ]
  },
  {
   "cell_type": "code",
   "execution_count": 58,
   "metadata": {},
   "outputs": [
    {
     "name": "stdout",
     "output_type": "stream",
     "text": [
      "                                   precision    recall  f1-score   support\n",
      "\n",
      "              Contra la Propiedad       1.00      0.43      0.60         7\n",
      "Otros Delitos Contra las Personas       0.88      1.00      0.93        28\n",
      "\n",
      "                         accuracy                           0.89        35\n",
      "                        macro avg       0.94      0.71      0.77        35\n",
      "                     weighted avg       0.90      0.89      0.87        35\n",
      "\n"
     ]
    }
   ],
   "source": [
    "print(classification_report(y_test, y_pred))"
   ]
  },
  {
   "cell_type": "markdown",
   "metadata": {},
   "source": [
    "- Conclusión: El modelo logró buenos resultados en general con una precisión del 89%."
   ]
  },
  {
   "cell_type": "markdown",
   "metadata": {},
   "source": [
    "# Objetivo Nº4: Predecir combinaciones de mes y ciudad como \"temporada alta\" de riesgos delictivos\n",
    "### Modelado "
   ]
  },
  {
   "cell_type": "markdown",
   "metadata": {},
   "source": [
    "- Importo las librerías"
   ]
  },
  {
   "cell_type": "code",
   "execution_count": 59,
   "metadata": {},
   "outputs": [],
   "source": [
    "import pandas as pd\n",
    "from sklearn.ensemble import RandomForestClassifier\n",
    "from sklearn.model_selection import train_test_split\n",
    "from sklearn.metrics import classification_report"
   ]
  },
  {
   "cell_type": "markdown",
   "metadata": {},
   "source": [
    "- Cargo los datasets limpios de Ushuaia y Río Grande"
   ]
  },
  {
   "cell_type": "code",
   "execution_count": 60,
   "metadata": {},
   "outputs": [],
   "source": [
    "ushuaia = pd.read_csv(\"../data/processed/dataset_ushuaia_limpio.csv\", sep=\";\")\n",
    "riogrande = pd.read_csv(\"../data/processed/dataset_riogrande_limpio.csv\", sep=\";\")"
   ]
  },
  {
   "cell_type": "markdown",
   "metadata": {},
   "source": [
    "- Agrego una columna llamada ciudad a cada dataframe\n",
    "\n"
   ]
  },
  {
   "cell_type": "code",
   "execution_count": 61,
   "metadata": {},
   "outputs": [],
   "source": [
    "ushuaia[\"ciudad\"] = \"Ushuaia\"\n",
    "riogrande[\"ciudad\"] = \"Río Grande\""
   ]
  },
  {
   "cell_type": "markdown",
   "metadata": {},
   "source": [
    "- Combino los datos de ambas ciudades en un solo dataframe\n"
   ]
  },
  {
   "cell_type": "code",
   "execution_count": 62,
   "metadata": {},
   "outputs": [],
   "source": [
    "df = pd.concat([ushuaia, riogrande], ignore_index=True)\n"
   ]
  },
  {
   "cell_type": "markdown",
   "metadata": {},
   "source": [
    "- Transformo el dataframe a formato largo, separando mes y año como columns independientes y renombrando para estandarizar los nombres"
   ]
  },
  {
   "cell_type": "code",
   "execution_count": 63,
   "metadata": {},
   "outputs": [],
   "source": [
    "df_largo = pd.melt(\n",
    "    df,\n",
    "    id_vars=[\"Tipo de Delito\", \"ciudad\"],\n",
    "    var_name=\"mes_anio_original\",\n",
    "    value_name=\"cantidad\"\n",
    ")\n",
    "df_largo.rename(columns={\"Tipo de Delito\": \"tipo_delito\"}, inplace=True)\n",
    "df_largo[[\"mes_txt\", \"anio\"]] = df_largo[\"mes_anio_original\"].str.split(\" \", expand=True)\n"
   ]
  },
  {
   "cell_type": "markdown",
   "metadata": {},
   "source": [
    "- Convierto los nombres de meses a números, los años a enteros y los valores de cantidad a números, reemplazando los valores nulos por 0"
   ]
  },
  {
   "cell_type": "code",
   "execution_count": 64,
   "metadata": {},
   "outputs": [],
   "source": [
    "meses_a_num = {\n",
    "    'enero': 1, 'febrero': 2, 'marzo': 3, 'abril': 4, 'mayo': 5, 'junio': 6,\n",
    "    'julio': 7, 'agosto': 8, 'septiembre': 9, 'octubre': 10,\n",
    "    'noviembre': 11, 'diciembre': 12\n",
    "}\n",
    "df_largo[\"mes\"] = df_largo[\"mes_txt\"].map(meses_a_num)\n",
    "df_largo[\"anio\"] = df_largo[\"anio\"].astype(int)\n",
    "df_largo[\"cantidad\"] = pd.to_numeric(df_largo[\"cantidad\"], errors=\"coerce\").fillna(0).astype(int)\n"
   ]
  },
  {
   "cell_type": "markdown",
   "metadata": {},
   "source": [
    "- Agrupo los delitos por año, mes y ciudad, obteniendo la cantidad total mensual para cada una\n",
    "\n"
   ]
  },
  {
   "cell_type": "code",
   "execution_count": 65,
   "metadata": {},
   "outputs": [],
   "source": [
    "df_mensual = df_largo.groupby([\"anio\", \"mes\", \"ciudad\"])[\"cantidad\"].sum().reset_index()\n",
    "df_mensual.rename(columns={\"cantidad\": \"total_delitos\"}, inplace=True)"
   ]
  },
  {
   "cell_type": "markdown",
   "metadata": {},
   "source": [
    "- Creo etiqueta de temporada alta (percentil 75 por ciudad)"
   ]
  },
  {
   "cell_type": "code",
   "execution_count": 66,
   "metadata": {},
   "outputs": [],
   "source": [
    "df_mensual[\"temporada_alta\"] = 0\n",
    "for ciudad in df_mensual[\"ciudad\"].unique():\n",
    "    umbral = df_mensual[df_mensual[\"ciudad\"] == ciudad][\"total_delitos\"].quantile(0.75)\n",
    "    df_mensual.loc[\n",
    "        (df_mensual[\"ciudad\"] == ciudad) & (df_mensual[\"total_delitos\"] > umbral),\n",
    "        \"temporada_alta\"\n",
    "    ] = 1"
   ]
  },
  {
   "cell_type": "markdown",
   "metadata": {},
   "source": [
    "- Variables predictoras y objetivo"
   ]
  },
  {
   "cell_type": "code",
   "execution_count": 67,
   "metadata": {},
   "outputs": [],
   "source": [
    "X = df_mensual[[\"anio\", \"mes\", \"ciudad\"]].copy()\n",
    "y = df_mensual[\"temporada_alta\"]"
   ]
  },
  {
   "cell_type": "markdown",
   "metadata": {},
   "source": [
    "- Codifico ciudad como variable dummy"
   ]
  },
  {
   "cell_type": "code",
   "execution_count": 68,
   "metadata": {},
   "outputs": [],
   "source": [
    "X = pd.get_dummies(X, columns=[\"ciudad\"], drop_first=True)\n"
   ]
  },
  {
   "cell_type": "markdown",
   "metadata": {},
   "source": [
    "- Divido el conjunto de datos en entrenamiento y pruebas"
   ]
  },
  {
   "cell_type": "code",
   "execution_count": 69,
   "metadata": {},
   "outputs": [],
   "source": [
    "X_train, X_test, y_train, y_test = train_test_split(\n",
    "    X, y, test_size=0.3, random_state=42, stratify=y\n",
    ")"
   ]
  },
  {
   "cell_type": "markdown",
   "metadata": {},
   "source": [
    "### Entrenamiento\n",
    "- Entreno el modelo con ajustes de clases y mayor profundidad"
   ]
  },
  {
   "cell_type": "code",
   "execution_count": 70,
   "metadata": {},
   "outputs": [
    {
     "data": {
      "text/html": [
       "<style>#sk-container-id-4 {color: black;}#sk-container-id-4 pre{padding: 0;}#sk-container-id-4 div.sk-toggleable {background-color: white;}#sk-container-id-4 label.sk-toggleable__label {cursor: pointer;display: block;width: 100%;margin-bottom: 0;padding: 0.3em;box-sizing: border-box;text-align: center;}#sk-container-id-4 label.sk-toggleable__label-arrow:before {content: \"▸\";float: left;margin-right: 0.25em;color: #696969;}#sk-container-id-4 label.sk-toggleable__label-arrow:hover:before {color: black;}#sk-container-id-4 div.sk-estimator:hover label.sk-toggleable__label-arrow:before {color: black;}#sk-container-id-4 div.sk-toggleable__content {max-height: 0;max-width: 0;overflow: hidden;text-align: left;background-color: #f0f8ff;}#sk-container-id-4 div.sk-toggleable__content pre {margin: 0.2em;color: black;border-radius: 0.25em;background-color: #f0f8ff;}#sk-container-id-4 input.sk-toggleable__control:checked~div.sk-toggleable__content {max-height: 200px;max-width: 100%;overflow: auto;}#sk-container-id-4 input.sk-toggleable__control:checked~label.sk-toggleable__label-arrow:before {content: \"▾\";}#sk-container-id-4 div.sk-estimator input.sk-toggleable__control:checked~label.sk-toggleable__label {background-color: #d4ebff;}#sk-container-id-4 div.sk-label input.sk-toggleable__control:checked~label.sk-toggleable__label {background-color: #d4ebff;}#sk-container-id-4 input.sk-hidden--visually {border: 0;clip: rect(1px 1px 1px 1px);clip: rect(1px, 1px, 1px, 1px);height: 1px;margin: -1px;overflow: hidden;padding: 0;position: absolute;width: 1px;}#sk-container-id-4 div.sk-estimator {font-family: monospace;background-color: #f0f8ff;border: 1px dotted black;border-radius: 0.25em;box-sizing: border-box;margin-bottom: 0.5em;}#sk-container-id-4 div.sk-estimator:hover {background-color: #d4ebff;}#sk-container-id-4 div.sk-parallel-item::after {content: \"\";width: 100%;border-bottom: 1px solid gray;flex-grow: 1;}#sk-container-id-4 div.sk-label:hover label.sk-toggleable__label {background-color: #d4ebff;}#sk-container-id-4 div.sk-serial::before {content: \"\";position: absolute;border-left: 1px solid gray;box-sizing: border-box;top: 0;bottom: 0;left: 50%;z-index: 0;}#sk-container-id-4 div.sk-serial {display: flex;flex-direction: column;align-items: center;background-color: white;padding-right: 0.2em;padding-left: 0.2em;position: relative;}#sk-container-id-4 div.sk-item {position: relative;z-index: 1;}#sk-container-id-4 div.sk-parallel {display: flex;align-items: stretch;justify-content: center;background-color: white;position: relative;}#sk-container-id-4 div.sk-item::before, #sk-container-id-4 div.sk-parallel-item::before {content: \"\";position: absolute;border-left: 1px solid gray;box-sizing: border-box;top: 0;bottom: 0;left: 50%;z-index: -1;}#sk-container-id-4 div.sk-parallel-item {display: flex;flex-direction: column;z-index: 1;position: relative;background-color: white;}#sk-container-id-4 div.sk-parallel-item:first-child::after {align-self: flex-end;width: 50%;}#sk-container-id-4 div.sk-parallel-item:last-child::after {align-self: flex-start;width: 50%;}#sk-container-id-4 div.sk-parallel-item:only-child::after {width: 0;}#sk-container-id-4 div.sk-dashed-wrapped {border: 1px dashed gray;margin: 0 0.4em 0.5em 0.4em;box-sizing: border-box;padding-bottom: 0.4em;background-color: white;}#sk-container-id-4 div.sk-label label {font-family: monospace;font-weight: bold;display: inline-block;line-height: 1.2em;}#sk-container-id-4 div.sk-label-container {text-align: center;}#sk-container-id-4 div.sk-container {/* jupyter's `normalize.less` sets `[hidden] { display: none; }` but bootstrap.min.css set `[hidden] { display: none !important; }` so we also need the `!important` here to be able to override the default hidden behavior on the sphinx rendered scikit-learn.org. See: https://github.com/scikit-learn/scikit-learn/issues/21755 */display: inline-block !important;position: relative;}#sk-container-id-4 div.sk-text-repr-fallback {display: none;}</style><div id=\"sk-container-id-4\" class=\"sk-top-container\"><div class=\"sk-text-repr-fallback\"><pre>RandomForestClassifier(class_weight=&#x27;balanced&#x27;, max_depth=10, n_estimators=200,\n",
       "                       random_state=42)</pre><b>In a Jupyter environment, please rerun this cell to show the HTML representation or trust the notebook. <br />On GitHub, the HTML representation is unable to render, please try loading this page with nbviewer.org.</b></div><div class=\"sk-container\" hidden><div class=\"sk-item\"><div class=\"sk-estimator sk-toggleable\"><input class=\"sk-toggleable__control sk-hidden--visually\" id=\"sk-estimator-id-4\" type=\"checkbox\" checked><label for=\"sk-estimator-id-4\" class=\"sk-toggleable__label sk-toggleable__label-arrow\">RandomForestClassifier</label><div class=\"sk-toggleable__content\"><pre>RandomForestClassifier(class_weight=&#x27;balanced&#x27;, max_depth=10, n_estimators=200,\n",
       "                       random_state=42)</pre></div></div></div></div></div>"
      ],
      "text/plain": [
       "RandomForestClassifier(class_weight='balanced', max_depth=10, n_estimators=200,\n",
       "                       random_state=42)"
      ]
     },
     "execution_count": 70,
     "metadata": {},
     "output_type": "execute_result"
    }
   ],
   "source": [
    "modelo = RandomForestClassifier(\n",
    "    n_estimators=200,\n",
    "    max_depth=10,\n",
    "    class_weight='balanced',\n",
    "    random_state=42\n",
    ")\n",
    "modelo.fit(X_train, y_train)"
   ]
  },
  {
   "cell_type": "markdown",
   "metadata": {},
   "source": [
    "- Realizo la predicción y evaluación del modelo"
   ]
  },
  {
   "cell_type": "code",
   "execution_count": 71,
   "metadata": {},
   "outputs": [
    {
     "name": "stdout",
     "output_type": "stream",
     "text": [
      "              precision    recall  f1-score   support\n",
      "\n",
      "           0       0.80      0.83      0.81        53\n",
      "           1       0.40      0.35      0.38        17\n",
      "\n",
      "    accuracy                           0.71        70\n",
      "   macro avg       0.60      0.59      0.59        70\n",
      "weighted avg       0.70      0.71      0.71        70\n",
      "\n"
     ]
    }
   ],
   "source": [
    "y_pred = modelo.predict(X_test)\n",
    "print(classification_report(y_test, y_pred))"
   ]
  },
  {
   "cell_type": "code",
   "execution_count": 72,
   "metadata": {},
   "outputs": [
    {
     "data": {
      "image/png": "[encoded data removed]",
      "text/plain": [
       "<Figure size 640x480 with 2 Axes>"
      ]
     },
     "metadata": {},
     "output_type": "display_data"
    }
   ],
   "source": [
    "ConfusionMatrixDisplay.from_estimator(modelo, X_test, y_test, cmap=\"Blues\")\n",
    "plt.title(\"Matriz de Confusión - Random Forest ajustado\")\n",
    "plt.tight_layout()\n",
    "plt.show()"
   ]
  },
  {
   "cell_type": "markdown",
   "metadata": {},
   "source": [
    "- Interpretabilidad: El modelo acierta la mayoría de las veces cuando no hay temporada alta, pero le cuesta más predecir bien cuándo sí la hay. Aún así, los resultados son bastante buenos y ayudan a identificar patrones por ciudad y mes\n",
    "\n",
    "Clase 0 (no es temporada alta): El modelo lo predice bien (44 verdaderos negativos de 53)\n",
    "\n",
    "Clase 1 (temporada alta): Tiene más dificultad (solo 6 verdaderos positivos de 17)\n",
    "\n",
    "Por lo que se puede concluir que el modelo prefiere decir que NO es temporada alta a menos que esté muy seguro de lo contrario. Básicamente es bueno para descartar riesgo pero no tanto para anticiparlo"
   ]
  }
 ],
 "metadata": {
  "kernelspec": {
   "display_name": "Python 3.8.9 64-bit",
   "language": "python",
   "name": "python3"
  },
  "language_info": {
   "codemirror_mode": {
    "name": "ipython",
    "version": 3
   },
   "file_extension": ".py",
   "mimetype": "text/x-python",
   "name": "python",
   "nbconvert_exporter": "python",
   "pygments_lexer": "ipython3",
   "version": "3.8.9"
  },
  "orig_nbformat": 4,
  "vscode": {
   "interpreter": {
    "hash": "44c4f38e285b8bb4a0d7d6c1a5057dea98144049ee050a3afa8925692303b023"
   }
  }
 },
 "nbformat": 4,
 "nbformat_minor": 2
}
