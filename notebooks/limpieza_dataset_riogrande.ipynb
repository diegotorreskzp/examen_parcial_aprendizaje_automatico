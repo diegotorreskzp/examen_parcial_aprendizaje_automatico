{
 "cells": [
  {
   "cell_type": "markdown",
   "metadata": {},
   "source": [
    "# Limpieza y normalización del dataset de Río Grande"
   ]
  },
  {
   "cell_type": "markdown",
   "metadata": {},
   "source": [
    "- Importo las librerías "
   ]
  },
  {
   "cell_type": "code",
   "execution_count": 2,
   "metadata": {},
   "outputs": [],
   "source": [
    "import pandas as pd\n",
    "from datetime import datetime"
   ]
  },
  {
   "cell_type": "markdown",
   "metadata": {},
   "source": [
    "- Cargo el dataset de Río Grande"
   ]
  },
  {
   "cell_type": "code",
   "execution_count": 3,
   "metadata": {},
   "outputs": [],
   "source": [
    "df_rg = pd.read_excel(\"../data/raw/Rio Grande - Delitos.xlsx\", header=None)\n"
   ]
  },
  {
   "cell_type": "markdown",
   "metadata": {},
   "source": [
    "- Extraigo los encabezados de años y meses"
   ]
  },
  {
   "cell_type": "code",
   "execution_count": 5,
   "metadata": {},
   "outputs": [],
   "source": [
    "años = df_rg.iloc[2, 1:].fillna(method='ffill').fillna(method='bfill').astype(int).tolist()\n",
    "meses = df_rg.iloc[3, 1:].astype(str).str.lower().tolist()"
   ]
  },
  {
   "cell_type": "markdown",
   "metadata": {},
   "source": [
    "- Abrevio el nombre de los meses"
   ]
  },
  {
   "cell_type": "code",
   "execution_count": 6,
   "metadata": {},
   "outputs": [],
   "source": [
    "mes_mapeo = {\n",
    "    'ene': 'enero', 'feb': 'febrero', 'mar': 'marzo', 'abr': 'abril', 'may': 'mayo', 'jun': 'junio',\n",
    "    'jul': 'julio', 'ago': 'agosto', 'sept': 'septiembre', 'sep': 'septiembre',\n",
    "    'oct': 'octubre', 'nov': 'noviembre', 'dic': 'diciembre'\n",
    "}"
   ]
  },
  {
   "cell_type": "markdown",
   "metadata": {},
   "source": [
    "- Genero el nombre de las columnas y posiciones de las mismas"
   ]
  },
  {
   "cell_type": "code",
   "execution_count": 7,
   "metadata": {},
   "outputs": [],
   "source": [
    "columnas = []\n",
    "indices = []\n",
    "for idx, (y, m) in enumerate(zip(años, meses)):\n",
    "    mes_key = m[:4]\n",
    "    if mes_key in mes_mapeo:\n",
    "        columnas.append(f\"{mes_mapeo[mes_key]} {y}\")\n",
    "        indices.append(idx + 1)  # +1 por la columna de nombre"
   ]
  },
  {
   "cell_type": "markdown",
   "metadata": {},
   "source": [
    "- Extraigo las filas que me serán de utilidad del archivo original"
   ]
  },
  {
   "cell_type": "code",
   "execution_count": 8,
   "metadata": {},
   "outputs": [],
   "source": [
    "df_rg_limpio = df_rg.iloc[5:47, [0] + indices].reset_index(drop=True)\n",
    "df_rg_limpio.columns = ['Tipo de Delito'] + columnas\n"
   ]
  },
  {
   "cell_type": "markdown",
   "metadata": {},
   "source": [
    "- En caso de haber filas vacías, las elimina"
   ]
  },
  {
   "cell_type": "code",
   "execution_count": 9,
   "metadata": {},
   "outputs": [],
   "source": [
    "df_rg_limpio = df_rg_limpio.dropna(how=\"all\").reset_index(drop=True)\n"
   ]
  },
  {
   "cell_type": "markdown",
   "metadata": {},
   "source": [
    "- Convierto y reemplazo los valores nulos de \"-\" o \",\" por ceros"
   ]
  },
  {
   "cell_type": "code",
   "execution_count": 12,
   "metadata": {},
   "outputs": [],
   "source": [
    "df_rg_limpio.replace(['-', ','], 0, inplace=True)\n",
    "df_reemplazo_rg = df_rg_limpio.apply(pd.to_numeric, errors='ignore')"
   ]
  },
  {
   "cell_type": "markdown",
   "metadata": {},
   "source": [
    "- Exporto el archivo final"
   ]
  },
  {
   "cell_type": "code",
   "execution_count": 13,
   "metadata": {},
   "outputs": [],
   "source": [
    "ruta_final = \"../data/processed/dataset_riogrande_limpio.csv\"\n",
    "df_reemplazo_rg.to_csv(ruta_final, sep=\";\", encoding=\"utf-8\", index=False)"
   ]
  }
 ],
 "metadata": {
  "kernelspec": {
   "display_name": "Python 3.8.9 64-bit",
   "language": "python",
   "name": "python3"
  },
  "language_info": {
   "codemirror_mode": {
    "name": "ipython",
    "version": 3
   },
   "file_extension": ".py",
   "mimetype": "text/x-python",
   "name": "python",
   "nbconvert_exporter": "python",
   "pygments_lexer": "ipython3",
   "version": "3.8.9"
  },
  "orig_nbformat": 4,
  "vscode": {
   "interpreter": {
    "hash": "44c4f38e285b8bb4a0d7d6c1a5057dea98144049ee050a3afa8925692303b023"
   }
  }
 },
 "nbformat": 4,
 "nbformat_minor": 2
}
